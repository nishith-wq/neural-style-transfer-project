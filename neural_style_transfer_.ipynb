{
 "cells": [
  {
   "cell_type": "code",
   "execution_count": null,
   "id": "834425ac",
   "metadata": {
    "id": "d9XldWT3loTr"
   },
   "outputs": [],
   "source": [
    "# Importing necessary libraries for model loading and image preprocessing\n",
    "import tensorflow as tf\n",
    "import numpy as np\n",
    "import matplotlib.pyplot as plt\n",
    "import math\n",
    "\n",
    "from tensorflow.keras.applications.vgg19 import VGG19, preprocess_input\n",
    "from tensorflow.keras.preprocessing.image import load_img, img_to_array\n",
    "from tensorflow.keras.models import Model"
   ]
  },
  {
   "cell_type": "code",
   "execution_count": null,
   "id": "ab49db6d",
   "metadata": {
    "id": "lpXkhwTmlvvs"
   },
   "outputs": [],
   "source": [
    "def load_and_process_image(image_path):\n",
    "    img = load_img(image_path)\n",
    "    img = img_to_array(img)\n",
    "    img = preprocess_input(img)\n",
    "    img = np.expand_dims(img, axis=0)\n",
    "    return img"
   ]
  },
  {
   "cell_type": "code",
   "execution_count": null,
   "id": "39bd0a97",
   "metadata": {
    "id": "XkLyT49dl0OD"
   },
   "outputs": [],
   "source": [
    "def deprocess(img):\n",
    "    img[:, :, 0] += 103.939\n",
    "    img[:, :, 1] += 116.779\n",
    "    img[:, :, 2] += 123.68\n",
    "    img = img[:, :, ::-1]\n",
    "\n",
    "    img = np.clip(img, 0, 255).astype('uint8')\n",
    "    return img\n",
    "\n",
    "\n",
    "def display_image(image):\n",
    "    if len(image.shape) == 4:\n",
    "        img = np.squeeze(image, axis=0)\n",
    "\n",
    "    img = deprocess(img)\n",
    "\n",
    "    plt.grid(False)\n",
    "    plt.xticks([])\n",
    "    plt.yticks([])\n",
    "    plt.imshow(img)\n",
    "    return"
   ]
  },
  {
   "cell_type": "code",
   "execution_count": null,
   "id": "46499443",
   "metadata": {
    "colab": {
     "base_uri": "https://localhost:8080/",
     "height": 406
    },
    "id": "h29iWaqymM3h",
    "outputId": "f08d6e3b-e612-4116-c6c1-6db7ea0dabc1"
   },
   "outputs": [],
   "source": [
    "# Loading the content image and resizing it to the desired dimensions\n",
    "content_img = load_and_process_image('/content/content.png')\n",
    "display_image(content_img)\n"
   ]
  },
  {
   "cell_type": "code",
   "execution_count": null,
   "id": "0e82d203",
   "metadata": {
    "colab": {
     "base_uri": "https://localhost:8080/",
     "height": 371
    },
    "id": "relOhp0Tl4KZ",
    "outputId": "301c68ef-11bc-4745-f515-9a053578d7ed"
   },
   "outputs": [],
   "source": [
    "\n",
    "style_img = load_and_process_image('/content/style.png')\n",
    "display_image(style_img)"
   ]
  },
  {
   "cell_type": "code",
   "execution_count": null,
   "id": "6a359473",
   "metadata": {
    "colab": {
     "base_uri": "https://localhost:8080/",
     "height": 884
    },
    "id": "BB2mEQn6mg7N",
    "outputId": "043ac904-119f-4e20-e6e9-ce66a339eca5"
   },
   "outputs": [],
   "source": [
    "model = VGG19(\n",
    "    include_top=False,\n",
    "    weights='imagenet'\n",
    ")\n",
    "model.trainable = False\n",
    "\n",
    "model.summary()"
   ]
  },
  {
   "cell_type": "code",
   "execution_count": null,
   "id": "1b70c162",
   "metadata": {
    "colab": {
     "base_uri": "https://localhost:8080/",
     "height": 782
    },
    "id": "XBcz9r9zmmY-",
    "outputId": "30d9fc6c-8c1d-4316-bad8-c75a225132e8"
   },
   "outputs": [],
   "source": [
    "content_layer = 'block5_conv2'\n",
    "content_model = Model(\n",
    "    inputs=model.input,\n",
    "    outputs=model.get_layer(content_layer).output\n",
    ")\n",
    "content_model.summary()"
   ]
  },
  {
   "cell_type": "code",
   "execution_count": null,
   "id": "8e740e30",
   "metadata": {
    "id": "mCs0G59FmtX3"
   },
   "outputs": [],
   "source": [
    "style_layers = [\n",
    "    'block1_conv1',\n",
    "    'block3_conv1',\n",
    "    'block5_conv1'\n",
    "]\n",
    "style_models = [Model(inputs=model.input,\n",
    "                      outputs=model.get_layer(layer).output) for layer in style_layers]"
   ]
  },
  {
   "cell_type": "code",
   "execution_count": null,
   "id": "612c2890",
   "metadata": {
    "id": "xq7mpZyemyDp"
   },
   "outputs": [],
   "source": [
    "def content_loss(content, generated):\n",
    "    a_C = content_model(content)\n",
    "    a_G = content_model(generated)  # Add this line to compute a_G\n",
    "    loss = tf.reduce_mean(tf.square(a_C - a_G))\n",
    "    return loss"
   ]
  },
  {
   "cell_type": "code",
   "execution_count": null,
   "id": "cd3924d4",
   "metadata": {
    "id": "vVWHr91Um2FY"
   },
   "outputs": [],
   "source": [
    "def gram_matrix(A):\n",
    "    channels = int(A.shape[-1])\n",
    "    a = tf.reshape(A, [-1, channels])\n",
    "    n = tf.shape(a)[0]\n",
    "    gram = tf.matmul(a, a, transpose_a=True)\n",
    "    return gram / tf.cast(n, tf.float32)\n",
    "\n",
    "\n",
    "weight_of_layer = 1. / len(style_models)"
   ]
  },
  {
   "cell_type": "code",
   "execution_count": null,
   "id": "ba424e04",
   "metadata": {
    "id": "c2AKQO9Cm6Hi"
   },
   "outputs": [],
   "source": [
    "def style_cost(style, generated):\n",
    "    J_style = 0\n",
    "\n",
    "    for style_model in style_models:\n",
    "        a_S = style_model(style)\n",
    "        a_G = style_model(generated)\n",
    "        GS = gram_matrix(a_S)\n",
    "        GG = gram_matrix(a_G)\n",
    "        content_cost = tf.reduce_mean(tf.square(GS - GG))\n",
    "        J_style += content_cost * weight_of_layer\n",
    "\n",
    "    return J_style"
   ]
  },
  {
   "cell_type": "code",
   "execution_count": null,
   "id": "ecf12ad0",
   "metadata": {
    "id": "OIdKw-FGnWCx"
   },
   "outputs": [],
   "source": [
    "def content_cost(style, generated):\n",
    "    J_content = 0\n",
    "\n",
    "    for style_model in style_models:\n",
    "        a_S = style_model(style)\n",
    "        a_G = style_model(generated)\n",
    "        GS = gram_matrix(a_S)\n",
    "        GG = gram_matrix(a_G)\n",
    "        content_cost = tf.reduce_mean(tf.square(GS - GG))\n",
    "        J_content += content_cost * weight_of_layer\n",
    "\n",
    "    return J_content"
   ]
  },
  {
   "cell_type": "code",
   "execution_count": null,
   "id": "43962758",
   "metadata": {
    "id": "fPdfsPKNpr6l"
   },
   "outputs": [],
   "source": [
    "def compute_total_loss(content, style, generated, alpha=10, beta=1000):\n",
    "    J_content = content_loss(content, generated)\n",
    "    J_style = style_cost(style, generated)\n",
    "    return alpha * J_content + beta * J_style"
   ]
  },
  {
   "cell_type": "code",
   "execution_count": null,
   "id": "d9ffff24",
   "metadata": {
    "id": "69ykj4iv9bKk"
   },
   "outputs": [],
   "source": [
    "import time\n",
    "generated_images = []\n",
    "\n",
    "\n",
    "def training_loop(content_path, style_path, iterations=50, a=10, b=1000):\n",
    "    content = load_and_process_image(content_path)\n",
    "    style = load_and_process_image(style_path)\n",
    "    generated = tf.Variable(content, dtype=tf.float32)\n",
    "\n",
    "    opt = tf.keras.optimizers.Adam(learning_rate=0.7)\n",
    "\n",
    "    best_cost = math.inf\n",
    "    best_image = None\n",
    "    for i in range(iterations):\n",
    "        start_time_cpu = time.process_time()\n",
    "        start_time_wall = time.time()\n",
    "        with tf.GradientTape() as tape:\n",
    "            J_content = content_cost(style, generated)\n",
    "            J_style = style_cost(style, generated)\n",
    "            J_total = a * J_content + b * J_style\n",
    "\n",
    "        grads = tape.gradient(J_total, generated)\n",
    "        opt.apply_gradients([(grads, generated)])\n",
    "\n",
    "        end_time_cpu = time.process_time()  # Record end time for CPU\n",
    "        end_time_wall = time.time()  # Record end time for wall time\n",
    "        cpu_time = end_time_cpu - start_time_cpu  # Calculate CPU time\n",
    "        wall_time = end_time_wall - start_time_wall  # Calculate wall time\n",
    "\n",
    "        if J_total < best_cost:\n",
    "            best_cost = J_total\n",
    "            best_image = generated.numpy()\n",
    "\n",
    "        print(\"CPU times: user {} µs, sys: {} ns, total: {} µs\".format(\n",
    "          int(cpu_time * 1e6),\n",
    "          int(( end_time_cpu - start_time_cpu) * 1e9),\n",
    "          int((end_time_cpu - start_time_cpu + 1e-6) * 1e6))\n",
    "             )\n",
    "\n",
    "        print(\"Wall time: {:.2f} µs\".format(wall_time * 1e6))\n",
    "        print(\"Iteration :{}\".format(i))\n",
    "        print('Total Loss {:e}.'.format(J_total))\n",
    "        generated_images.append(generated.numpy())\n",
    "\n",
    "    return best_image"
   ]
  },
  {
   "cell_type": "code",
   "execution_count": null,
   "id": "8fbcff5a",
   "metadata": {
    "colab": {
     "base_uri": "https://localhost:8080/"
    },
    "id": "RaC2CYYw9lTo",
    "outputId": "3af12916-5c14-4e46-9167-ea6fe0d076da"
   },
   "outputs": [],
   "source": [
    "\n",
    "final_img = training_loop(content_path, style_path)"
   ]
  },
  {
   "cell_type": "code",
   "execution_count": null,
   "id": "482de27c",
   "metadata": {
    "colab": {
     "base_uri": "https://localhost:8080/",
     "height": 1000
    },
    "id": "lB1jQyYh9zOC",
    "outputId": "070fdbbf-16e2-4f11-9620-6001b960bb73"
   },
   "outputs": [],
   "source": [
    "plt.figure(figsize=(12, 12))\n",
    "\n",
    "for i in range(10):\n",
    "    plt.subplot(4, 3, i + 1)\n",
    "    display_image(generated_images[i+39])\n",
    "plt.show()\n",
    "\n",
    "display_image(final_img)"
   ]
  }
 ],
 "metadata": {
  "accelerator": "GPU",
  "colab": {
   "gpuType": "T4",
   "provenance": []
  },
  "kernelspec": {
   "display_name": "Python 3",
   "name": "python3"
  },
  "language_info": {
   "name": "python"
  }
 },
 "nbformat": 4,
 "nbformat_minor": 5
}
